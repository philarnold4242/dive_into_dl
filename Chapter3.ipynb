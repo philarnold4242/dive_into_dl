{
 "cells": [
  {
   "cell_type": "code",
   "execution_count": 3,
   "id": "77b414d7-728f-4229-a3e7-20fa8d600965",
   "metadata": {},
   "outputs": [],
   "source": [
    "%%capture\n",
    "!pip install torch==2.0.0 torchvision==0.15.1\n",
    "!pip install d2l==1.0.3"
   ]
  },
  {
   "cell_type": "markdown",
   "id": "ca6f6ed6-79e9-4efc-836a-040000ce8c89",
   "metadata": {
    "tags": []
   },
   "source": [
    "# d2l - Chapter 3"
   ]
  },
  {
   "cell_type": "markdown",
   "id": "fa93c62a-2167-47a2-8f9f-4a2a70b0a998",
   "metadata": {},
   "source": [
    "## Chapter 3.2"
   ]
  },
  {
   "cell_type": "markdown",
   "id": "44f3f6ab-8fed-4574-a623-9f1406608f4e",
   "metadata": {},
   "source": []
  }
 ],
 "metadata": {
  "kernelspec": {
   "display_name": "default:Python",
   "language": "python",
   "name": "conda-env-default-py"
  },
  "language_info": {
   "codemirror_mode": {
    "name": "ipython",
    "version": 3
   },
   "file_extension": ".py",
   "mimetype": "text/x-python",
   "name": "python",
   "nbconvert_exporter": "python",
   "pygments_lexer": "ipython3",
   "version": "3.9.23"
  }
 },
 "nbformat": 4,
 "nbformat_minor": 5
}
